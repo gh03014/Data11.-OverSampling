{
 "cells": [
  {
   "cell_type": "code",
   "execution_count": 1,
   "metadata": {},
   "outputs": [],
   "source": [
    "import os\n",
    "import pandas as pd"
   ]
  },
  {
   "cell_type": "code",
   "execution_count": 2,
   "metadata": {},
   "outputs": [],
   "source": [
    "df = pd.read_csv(\"Secom.csv\")"
   ]
  },
  {
   "cell_type": "code",
   "execution_count": 3,
   "metadata": {},
   "outputs": [],
   "source": [
    "# 특징과 라벨 분리\n",
    "X = df.drop('Y', axis = 1)\n",
    "Y = df['Y']"
   ]
  },
  {
   "cell_type": "code",
   "execution_count": 4,
   "metadata": {},
   "outputs": [],
   "source": [
    "# 학습 데이터와 평가 데이터 분할\n",
    "from sklearn.model_selection import train_test_split\n",
    "Train_X, Test_X, Train_Y, Test_Y = train_test_split(X, Y)"
   ]
  },
  {
   "cell_type": "code",
   "execution_count": 5,
   "metadata": {},
   "outputs": [
    {
     "data": {
      "text/plain": [
       "(1175, 590)"
      ]
     },
     "execution_count": 5,
     "metadata": {},
     "output_type": "execute_result"
    }
   ],
   "source": [
    "# 특징이 매우 많음을 확인\n",
    "Train_X.shape"
   ]
  },
  {
   "cell_type": "code",
   "execution_count": 6,
   "metadata": {
    "scrolled": true
   },
   "outputs": [
    {
     "data": {
      "text/plain": [
       "-1    1100\n",
       " 1      75\n",
       "Name: Y, dtype: int64"
      ]
     },
     "execution_count": 6,
     "metadata": {},
     "output_type": "execute_result"
    }
   ],
   "source": [
    "# 클래스 불균형 확인 => 언더샘플링을 적용하기에는 부적절 \n",
    "Train_Y.value_counts()"
   ]
  },
  {
   "cell_type": "code",
   "execution_count": 7,
   "metadata": {},
   "outputs": [
    {
     "data": {
      "text/plain": [
       "14.666666666666666"
      ]
     },
     "execution_count": 7,
     "metadata": {},
     "output_type": "execute_result"
    }
   ],
   "source": [
    "# 클래스 불균형 비율 계산\n",
    "Train_Y.value_counts().iloc[0] / Train_Y.value_counts().iloc[-1]"
   ]
  },
  {
   "cell_type": "code",
   "execution_count": 8,
   "metadata": {},
   "outputs": [
    {
     "name": "stdout",
     "output_type": "stream",
     "text": [
      "0.0\n",
      "0.9260204081632653\n"
     ]
    }
   ],
   "source": [
    "# kNN을 사용한 클래스 불균형 테스트\n",
    "from sklearn.neighbors import KNeighborsClassifier as KNN\n",
    "from sklearn.metrics import *\n",
    "kNN_model = KNN(n_neighbors = 11).fit(Train_X, Train_Y)\n",
    "pred_Y = kNN_model.predict(Test_X)\n",
    "print(recall_score(Test_Y, pred_Y))\n",
    "print(accuracy_score(Test_Y, pred_Y))\n",
    "\n",
    "# 재현율이 0%로 불균형이 심각한 수준이라 보임"
   ]
  },
  {
   "cell_type": "code",
   "execution_count": 9,
   "metadata": {},
   "outputs": [],
   "source": [
    "# imblearn 0.0 버전, imbalanced-learn 0.7.0 버전을 설치한다.\n",
    "# 만약 fit_sample() 을 호출할 때 오류가 생겼다면 mbalanced-learn 이 0.8.0 버전으로 설치되어있을 수 있다\n",
    "# 오버샘플링은 상대적으로 적은 클래스의 데이터를 뻥튀기시켜 늘리는 방식이다.\n",
    "# 가장 가까운 k개의 샘플을 찾고 그 이운들간에 선을 그어 무작위 점을 생성한다.\n",
    "# 완전히 동일하진 않지만 샘플들 사이의 특성들을 반영한 데이터가 생성된다.\n",
    "# 오버피팅의 가능성이 높아지는 부작용도 있다 - 단점\n",
    "\n",
    "from imblearn.over_sampling import SMOTE\n",
    "# SMOTE 인스턴스 생성\n",
    "oversampling_instance = SMOTE(k_neighbors = 3)\n",
    "\n",
    "# 오버샘플링 적용\n",
    "o_Train_X, o_Train_Y = oversampling_instance.fit_sample(Train_X, Train_Y)\n",
    "\n",
    "# ndarray 형태가 되므로 다시 DataFrame과 Series로 변환 (남은 전처리가 없다면 하지 않아도 무방)\n",
    "o_Train_X = pd.DataFrame(o_Train_X, columns = X.columns)\n",
    "o_Train_Y = pd.Series(o_Train_Y)"
   ]
  },
  {
   "cell_type": "code",
   "execution_count": 10,
   "metadata": {
    "scrolled": true
   },
   "outputs": [
    {
     "data": {
      "text/plain": [
       "-1    1100\n",
       " 1    1100\n",
       "Name: Y, dtype: int64"
      ]
     },
     "execution_count": 10,
     "metadata": {},
     "output_type": "execute_result"
    }
   ],
   "source": [
    "# 비율이 1:1이 됨을 확인\n",
    "o_Train_Y.value_counts()"
   ]
  },
  {
   "cell_type": "code",
   "execution_count": 11,
   "metadata": {},
   "outputs": [
    {
     "name": "stdout",
     "output_type": "stream",
     "text": [
      "0.4482758620689655\n",
      "0.5306122448979592\n"
     ]
    }
   ],
   "source": [
    "# 같은 모델로 다시 평가: 정확도는 감소했으나, 재현율이 크게 오름을 확인\n",
    "kNN_model = KNN(n_neighbors = 11).fit(o_Train_X, o_Train_Y)\n",
    "pred_Y = kNN_model.predict(Test_X)\n",
    "print(recall_score(Test_Y, pred_Y))\n",
    "print(accuracy_score(Test_Y, pred_Y))"
   ]
  },
  {
   "cell_type": "code",
   "execution_count": 12,
   "metadata": {},
   "outputs": [],
   "source": [
    "# 정확도를 조금더 올리는 방식으로 over_sampling을 진행\n",
    "from imblearn.over_sampling import SMOTE\n",
    "# SMOTE 인스턴스 생성\n",
    "# sampling_strategy 를 이용해 균형 비율을 조정\n",
    "oversampling_instance = SMOTE(k_neighbors = 3, sampling_strategy = {1:int(Train_Y.value_counts().iloc[0] / 2),\n",
    "                                                                    -1:Train_Y.value_counts().iloc[0]})\n",
    "\n",
    "# 오버샘플링 적용\n",
    "o_Train_X, o_Train_Y = oversampling_instance.fit_sample(Train_X, Train_Y)\n",
    "\n",
    "# ndarray 형태가 되므로 다시 DataFrame과 Series로 변환 (남은 전처리가 없다면 하지 않아도 무방)\n",
    "o_Train_X = pd.DataFrame(o_Train_X, columns = X.columns)\n",
    "o_Train_Y = pd.Series(o_Train_Y)"
   ]
  },
  {
   "cell_type": "code",
   "execution_count": 13,
   "metadata": {},
   "outputs": [
    {
     "name": "stdout",
     "output_type": "stream",
     "text": [
      "0.3103448275862069\n",
      "0.6479591836734694\n"
     ]
    }
   ],
   "source": [
    "kNN_model = KNN(n_neighbors = 11).fit(o_Train_X, o_Train_Y)\n",
    "pred_Y = kNN_model.predict(Test_X)\n",
    "print(recall_score(Test_Y, pred_Y))\n",
    "print(accuracy_score(Test_Y, pred_Y))"
   ]
  },
  {
   "cell_type": "code",
   "execution_count": null,
   "metadata": {},
   "outputs": [],
   "source": []
  }
 ],
 "metadata": {
  "kernelspec": {
   "display_name": "Python 3",
   "language": "python",
   "name": "python3"
  },
  "language_info": {
   "codemirror_mode": {
    "name": "ipython",
    "version": 3
   },
   "file_extension": ".py",
   "mimetype": "text/x-python",
   "name": "python",
   "nbconvert_exporter": "python",
   "pygments_lexer": "ipython3",
   "version": "3.8.5"
  }
 },
 "nbformat": 4,
 "nbformat_minor": 2
}
